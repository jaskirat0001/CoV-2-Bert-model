{
  "metadata": {
    "kernelspec": {
      "language": "python",
      "display_name": "Python 3",
      "name": "python3"
    },
    "language_info": {
      "name": "python",
      "version": "3.10.12",
      "mimetype": "text/x-python",
      "codemirror_mode": {
        "name": "ipython",
        "version": 3
      },
      "pygments_lexer": "ipython3",
      "nbconvert_exporter": "python",
      "file_extension": ".py"
    },
    "colab": {
      "provenance": []
    }
  },
  "nbformat_minor": 0,
  "nbformat": 4,
  "cells": [
    {
      "cell_type": "markdown",
      "source": [
        "### Helpers"
      ],
      "metadata": {
        "id": "9gw3ixUZnyKI"
      }
    },
    {
      "cell_type": "code",
      "source": [
        "import numpy as np\n",
        "from sklearn.manifold import TSNE\n",
        "import matplotlib.pyplot as plt\n",
        "from sklearn.decomposition import PCA\n",
        "import seaborn as sns\n",
        "\n",
        "\n",
        "def count_plot(y, title):\n",
        "    sns.countplot(y)\n",
        "    plt.title(f'Class dist in {title} set')\n",
        "    plt.savefig(f'{title}.png')\n",
        "    plt.show()\n",
        "\n",
        "def plot_tsne(X, y, title):\n",
        "    X_tsne = TSNE(n_components=2, n_iter = 2000 , init='random').fit_transform(X)\n",
        "\n",
        "    plt.scatter(X_tsne[:, 0], X_tsne[:, 1], c=y)\n",
        "    plt.title(f'TSNE - {title} data 2D')\n",
        "    plt.legend(title)\n",
        "    plt.savefig(f'{title}.png')\n",
        "    plt.show()\n",
        "\n",
        "def plot_pca(X, y, title):\n",
        "    # create a PCA object with 2 components\n",
        "    pca = PCA(n_components=2)\n",
        "\n",
        "    # fit the PCA object to X and transform X\n",
        "    X_pca = pca.fit_transform(X)\n",
        "\n",
        "    # plot the PCA transform of X colored by y\n",
        "    plt.scatter(X_pca[:, 0], X_pca[:, 1], c=y)\n",
        "    plt.xlabel('Principal Component 1')\n",
        "    plt.ylabel('Principal Component 2')\n",
        "    plt.savefig(f'{title}.png')\n",
        "    plt.show()"
      ],
      "metadata": {
        "execution": {
          "iopub.status.busy": "2023-11-03T17:46:54.776014Z",
          "iopub.execute_input": "2023-11-03T17:46:54.776374Z",
          "iopub.status.idle": "2023-11-03T17:46:57.107867Z",
          "shell.execute_reply.started": "2023-11-03T17:46:54.776345Z",
          "shell.execute_reply": "2023-11-03T17:46:57.106930Z"
        },
        "trusted": true,
        "id": "QEDA1djbnyKL",
        "outputId": "879b99ac-2f5b-4f04-8026-0de958b59f98"
      },
      "execution_count": null,
      "outputs": [
        {
          "name": "stderr",
          "text": "/opt/conda/lib/python3.10/site-packages/scipy/__init__.py:146: UserWarning: A NumPy version >=1.16.5 and <1.23.0 is required for this version of SciPy (detected version 1.23.5\n  warnings.warn(f\"A NumPy version >={np_minversion} and <{np_maxversion}\"\n",
          "output_type": "stream"
        }
      ]
    },
    {
      "cell_type": "code",
      "source": [
        "import torch\n",
        "from transformers import (\n",
        "    AutoTokenizer,\n",
        "    AutoModelForSequenceClassification,\n",
        ")\n",
        "\n",
        "import numpy as np\n",
        "from sklearn.metrics import accuracy_score, precision_recall_fscore_support\n",
        "\n",
        "\n",
        "def load_model(model_config, return_model=False):\n",
        "    global model, device, tokenizer\n",
        "\n",
        "    if torch.cuda.is_available():\n",
        "        # for CUDA\n",
        "        torch.cuda.empty_cache()\n",
        "        device = torch.device(\"cuda:0\")\n",
        "        print(\"Running the model on CUDA\")\n",
        "\n",
        "    elif torch.backends.mps.is_available():\n",
        "        # for M1\n",
        "        device = torch.device(\"mps\")\n",
        "        print(\"Running the model on M1 CPU\")\n",
        "\n",
        "    else:\n",
        "        print(\"Running the model on CPU\")\n",
        "\n",
        "    tokenizer = AutoTokenizer.from_pretrained(\n",
        "        model_config[\"model_path\"], do_lower_case=False\n",
        "    )\n",
        "\n",
        "    model = AutoModelForSequenceClassification.from_pretrained(\n",
        "        model_config[\"model_path\"], num_labels=model_config[\"num_classes\"]\n",
        "    )\n",
        "\n",
        "    print(f'{ model_config[\"model_path\"]} loaded')\n",
        "\n",
        "    model.to(device)\n",
        "\n",
        "    if return_model:\n",
        "        return model, tokenizer, device\n",
        "\n",
        "\n",
        "def compute_metrics(eval_preds):\n",
        "    predictions, labels = eval_preds\n",
        "    predictions = np.argmax(predictions, axis=1)\n",
        "\n",
        "    precision, recall, f1, _ = precision_recall_fscore_support(\n",
        "        labels, predictions, average=\"weighted\"\n",
        "    )\n",
        "    acc = accuracy_score(labels, predictions)\n",
        "\n",
        "    metrics = {\"accuracy\": acc, \"precision\": precision, \"recall\": recall, \"f1\": f1}\n",
        "    return metrics"
      ],
      "metadata": {
        "execution": {
          "iopub.status.busy": "2023-11-03T17:46:57.109501Z",
          "iopub.execute_input": "2023-11-03T17:46:57.109870Z",
          "iopub.status.idle": "2023-11-03T17:47:02.213134Z",
          "shell.execute_reply.started": "2023-11-03T17:46:57.109845Z",
          "shell.execute_reply": "2023-11-03T17:47:02.212251Z"
        },
        "trusted": true,
        "id": "YKbkyARbnyKN"
      },
      "execution_count": null,
      "outputs": []
    },
    {
      "cell_type": "code",
      "source": [
        "import torch\n",
        "import os\n",
        "import pandas as pd\n",
        "\n",
        "\n",
        "class HF_dataset(torch.utils.data.Dataset):\n",
        "    def __init__(self, input_ids, attention_masks, labels):\n",
        "        self.input_ids = input_ids\n",
        "        self.attention_masks = attention_masks\n",
        "        self.labels = labels\n",
        "\n",
        "    def __len__(self):\n",
        "        return len(self.labels)\n",
        "\n",
        "    def __getitem__(self, index):\n",
        "        return {\n",
        "            \"input_ids\": torch.tensor(self.input_ids[index]),\n",
        "            \"attention_mask\": torch.tensor(self.attention_masks[index]),\n",
        "            \"labels\": torch.tensor(self.labels[index]),\n",
        "        }\n",
        "\n",
        "def val_dataset_generator(\n",
        "    tokenizer,\n",
        "    kmer_size,\n",
        "    val_dir,\n",
        "    maxl_len=512,\n",
        "):\n",
        "    for file in os.listdir(val_dir):\n",
        "        df_test = pd.read_csv(f\"{val_dir}/{file}\")\n",
        "        print(file, len(df_test))\n",
        "        val_kmers, labels_val = [], []\n",
        "\n",
        "        cls = (\n",
        "            \"CLASS\" if \"CLASS\" in df_test.columns else \"Class\"\n",
        "        )  # in case the column name is \"CLASS\" or \"Class\" in the CSV file\n",
        "\n",
        "        for seq, label in zip(df_test[\"SEQ\"], df_test[cls]):\n",
        "            kmer_seq = return_kmer(seq, K=kmer_size)\n",
        "            val_kmers.append(kmer_seq)\n",
        "            labels_val.append(label - 1)\n",
        "\n",
        "        val_encodings = tokenizer.batch_encode_plus(\n",
        "            val_kmers,\n",
        "            max_length=maxl_len,  # max length of the sequences\n",
        "#             pad_to_max_length=True, # pad the sequences to the max length\n",
        "            padding = 'longest',\n",
        "            truncation=True, # truncate the sequences to the max length\n",
        "            return_attention_mask=True,\n",
        "            return_tensors=\"pt\", # return torch tensors\n",
        "        )\n",
        "        val_dataset = HF_dataset(\n",
        "            val_encodings[\"input_ids\"], val_encodings[\"attention_mask\"], labels_val\n",
        "        )\n",
        "        yield val_dataset\n",
        "\n",
        "\n",
        "def return_kmer(seq, K=3):\n",
        "    kmer_list = []\n",
        "    for x in range(len(seq) - K + 1):  # move a window of size K across the sequence\n",
        "        kmer_list.append(seq[x : x + K])\n",
        "\n",
        "    kmer_seq = \" \".join(kmer_list)\n",
        "    return kmer_seq\n",
        "\n",
        "\n",
        "def is_dna_sequence(sequence):\n",
        "    valid_bases = {\"A\", \"C\", \"G\", \"T\"}\n",
        "    return all(base in valid_bases for base in sequence.upper())"
      ],
      "metadata": {
        "execution": {
          "iopub.status.busy": "2023-11-03T17:47:02.214236Z",
          "iopub.execute_input": "2023-11-03T17:47:02.214647Z",
          "iopub.status.idle": "2023-11-03T17:47:02.227849Z",
          "shell.execute_reply.started": "2023-11-03T17:47:02.214621Z",
          "shell.execute_reply": "2023-11-03T17:47:02.226746Z"
        },
        "trusted": true,
        "id": "orvIeISwnyKO"
      },
      "execution_count": null,
      "outputs": []
    },
    {
      "cell_type": "markdown",
      "source": [
        "### Import neccessities"
      ],
      "metadata": {
        "id": "j5msA0BwnyKO"
      }
    },
    {
      "cell_type": "code",
      "source": [
        "#########################################\n",
        "### Importing the necessary libraries ###\n",
        "#########################################\n",
        "import wandb\n",
        "import pandas as pd\n",
        "import numpy as np\n",
        "from pathlib import Path\n",
        "from transformers import Trainer, TrainingArguments"
      ],
      "metadata": {
        "_uuid": "8f2839f25d086af736a60e9eeb907d3b93b6e0e5",
        "_cell_guid": "b1076dfc-b9ad-4769-8c92-a6c4dae69d19",
        "execution": {
          "iopub.status.busy": "2023-11-03T17:47:02.229633Z",
          "iopub.execute_input": "2023-11-03T17:47:02.229955Z",
          "iopub.status.idle": "2023-11-03T17:47:10.194931Z",
          "shell.execute_reply.started": "2023-11-03T17:47:02.229929Z",
          "shell.execute_reply": "2023-11-03T17:47:10.194075Z"
        },
        "trusted": true,
        "id": "ciMyaeUdnyKO"
      },
      "execution_count": null,
      "outputs": []
    },
    {
      "cell_type": "code",
      "source": [
        "############################################\n",
        "### Reading the training and test data ####\n",
        "############################################\n",
        "\n",
        "KMER = 3  # The length of the K-mers to be used by the model and tokenizer\n",
        "\n",
        "training_data_path = Path(\"/kaggle/input/covid-deeppredictor/TrainingData/Trainingdata.csv\")\n",
        "eval_data_path = Path(\"/kaggle/input/covid-deeppredictor/TestData/TestData/Testdata-2.csv\")\n",
        "\n",
        "df_training = pd.read_csv(training_data_path)\n",
        "\n",
        "train_kmers, labels_train = [], []\n",
        "for seq, label in zip(df_training[\"SEQ\"], df_training[\"CLASS\"]):\n",
        "    kmer_seq = return_kmer(seq, K=KMER)\n",
        "    train_kmers.append(kmer_seq)\n",
        "    labels_train.append(label - 1)\n",
        "\n",
        "NUM_CLASSES = len(np.unique(labels_train))\n",
        "\n",
        "count_plot(labels_train, \"Training Class Distribution\")\n",
        "\n",
        "model_config = {\n",
        "    \"model_path\": f\"zhihan1996/DNA_bert_{KMER}\",\n",
        "    \"num_classes\": NUM_CLASSES,\n",
        "}\n",
        "\n",
        "model, tokenizer, device = load_model(model_config, return_model=True)"
      ],
      "metadata": {
        "_uuid": "8f2839f25d086af736a60e9eeb907d3b93b6e0e5",
        "_cell_guid": "b1076dfc-b9ad-4769-8c92-a6c4dae69d19",
        "execution": {
          "iopub.status.busy": "2023-11-03T17:47:11.467455Z",
          "iopub.execute_input": "2023-11-03T17:47:11.468257Z",
          "iopub.status.idle": "2023-11-03T17:47:27.700447Z",
          "shell.execute_reply.started": "2023-11-03T17:47:11.468213Z",
          "shell.execute_reply": "2023-11-03T17:47:27.699605Z"
        },
        "trusted": true,
        "id": "auh90Ka7nyKP",
        "outputId": "7c83079b-5b51-4375-ff7a-d79b7933d7ed"
      },
      "execution_count": null,
      "outputs": [
        {
          "output_type": "display_data",
          "data": {
            "text/plain": "<Figure size 640x480 with 1 Axes>",
            "image/png": "[encoded data removed]"
          },
          "metadata": {}
        },
        {
          "name": "stdout",
          "text": "Running the model on CUDA\n",
          "output_type": "stream"
        },
        {
          "name": "stderr",
          "text": "Some weights of BertForSequenceClassification were not initialized from the model checkpoint at zhihan1996/DNA_bert_3 and are newly initialized: ['classifier.weight', 'classifier.bias']\nYou should probably TRAIN this model on a down-stream task to be able to use it for predictions and inference.\n",
          "output_type": "stream"
        },
        {
          "name": "stdout",
          "text": "zhihan1996/DNA_bert_3 loaded\n",
          "output_type": "stream"
        }
      ]
    },
    {
      "cell_type": "code",
      "source": [
        "SEQ_MAX_LEN = 512  # max len of BERT\n",
        "\n",
        "train_encodings = tokenizer.batch_encode_plus(\n",
        "    train_kmers,\n",
        "    max_length=SEQ_MAX_LEN,\n",
        "    padding=True,  # pad to max len\n",
        "    truncation=True,  # truncate to max len\n",
        "    return_attention_mask=True,\n",
        "    return_tensors=\"pt\",  # return pytorch tensors\n",
        ")\n",
        "train_dataset = HF_dataset(\n",
        "    train_encodings[\"input_ids\"], train_encodings[\"attention_mask\"], labels_train\n",
        ")"
      ],
      "metadata": {
        "_uuid": "8f2839f25d086af736a60e9eeb907d3b93b6e0e5",
        "_cell_guid": "b1076dfc-b9ad-4769-8c92-a6c4dae69d19",
        "execution": {
          "iopub.status.busy": "2023-11-03T17:57:24.182094Z",
          "iopub.execute_input": "2023-11-03T17:57:24.182504Z",
          "iopub.status.idle": "2023-11-03T17:57:59.322352Z",
          "shell.execute_reply.started": "2023-11-03T17:57:24.182457Z",
          "shell.execute_reply": "2023-11-03T17:57:59.321507Z"
        },
        "trusted": true,
        "id": "BoE5wPlsnyKP"
      },
      "execution_count": null,
      "outputs": []
    },
    {
      "cell_type": "code",
      "source": [
        "df_val = pd.read_csv(eval_data_path)  # i use the Testdata-2 as the validation set\n",
        "\n",
        "val_kmers, labels_val = [], []\n",
        "for seq, label in zip(df_val[\"SEQ\"], df_val[\"CLASS\"]):\n",
        "    kmer_seq = return_kmer(seq, K=KMER)\n",
        "    val_kmers.append(kmer_seq)\n",
        "    labels_val.append(label - 1)\n",
        "\n",
        "count_plot(labels_val, \"Validation Class Distribution\")"
      ],
      "metadata": {
        "_uuid": "8f2839f25d086af736a60e9eeb907d3b93b6e0e5",
        "_cell_guid": "b1076dfc-b9ad-4769-8c92-a6c4dae69d19",
        "execution": {
          "iopub.status.busy": "2023-11-03T17:58:04.030757Z",
          "iopub.execute_input": "2023-11-03T17:58:04.031635Z",
          "iopub.status.idle": "2023-11-03T17:58:09.927543Z",
          "shell.execute_reply.started": "2023-11-03T17:58:04.031601Z",
          "shell.execute_reply": "2023-11-03T17:58:09.926610Z"
        },
        "trusted": true,
        "id": "9oSj22canyKP",
        "outputId": "ea198402-1240-4d89-b39a-8a4dd46ad142"
      },
      "execution_count": null,
      "outputs": [
        {
          "output_type": "display_data",
          "data": {
            "text/plain": "<Figure size 640x480 with 1 Axes>",
            "image/png": "[encoded data removed]"
          },
          "metadata": {}
        }
      ]
    },
    {
      "cell_type": "code",
      "source": [
        "val_encodings = tokenizer.batch_encode_plus(\n",
        "    val_kmers,\n",
        "    max_length=SEQ_MAX_LEN,\n",
        "    padding=True,  # pad to max len\n",
        "    truncation=True,  # truncate to max len\n",
        "    return_attention_mask=True,\n",
        "    return_tensors=\"pt\",  # return pytorch tensors\n",
        ")\n",
        "val_dataset = HF_dataset(\n",
        "    val_encodings[\"input_ids\"], val_encodings[\"attention_mask\"], labels_val\n",
        ")"
      ],
      "metadata": {
        "_uuid": "8f2839f25d086af736a60e9eeb907d3b93b6e0e5",
        "_cell_guid": "b1076dfc-b9ad-4769-8c92-a6c4dae69d19",
        "execution": {
          "iopub.status.busy": "2023-11-03T17:58:09.929646Z",
          "iopub.execute_input": "2023-11-03T17:58:09.930058Z",
          "iopub.status.idle": "2023-11-03T17:58:33.571072Z",
          "shell.execute_reply.started": "2023-11-03T17:58:09.930022Z",
          "shell.execute_reply": "2023-11-03T17:58:33.570134Z"
        },
        "trusted": true,
        "id": "frcu4yM3nyKQ"
      },
      "execution_count": null,
      "outputs": []
    },
    {
      "cell_type": "markdown",
      "source": [
        "### Training and eval"
      ],
      "metadata": {
        "id": "DBpepBDFnyKQ"
      }
    },
    {
      "cell_type": "code",
      "source": [
        "############################################\n",
        "### Training and evaluating the model #####\n",
        "############################################\n",
        "\n",
        "results_dir = Path(\"./results/classification/\")\n",
        "results_dir.mkdir(parents=True, exist_ok=True)\n",
        "EPOCHS = 1\n",
        "BATCH_SIZE = 8\n",
        "\n",
        "# initialize wandb for logging the training process\n",
        "wandb.init(project=\"DNA_bert\", name=model_config[\"model_path\"])\n",
        "wandb.config.update(model_config)"
      ],
      "metadata": {
        "_uuid": "8f2839f25d086af736a60e9eeb907d3b93b6e0e5",
        "_cell_guid": "b1076dfc-b9ad-4769-8c92-a6c4dae69d19",
        "execution": {
          "iopub.status.busy": "2023-11-03T17:18:19.416489Z",
          "iopub.execute_input": "2023-11-03T17:18:19.416813Z",
          "iopub.status.idle": "2023-11-03T17:19:21.984319Z",
          "shell.execute_reply.started": "2023-11-03T17:18:19.416787Z",
          "shell.execute_reply": "2023-11-03T17:19:21.983294Z"
        },
        "trusted": true,
        "id": "G274Z1rUnyKQ",
        "outputId": "bc431edf-e08e-403b-d262-52a9518523a9"
      },
      "execution_count": null,
      "outputs": [
        {
          "name": "stderr",
          "text": "\u001b[34m\u001b[1mwandb\u001b[0m: Logging into wandb.ai. (Learn how to deploy a W&B server locally: https://wandb.me/wandb-server)\n\u001b[34m\u001b[1mwandb\u001b[0m: You can find your API key in your browser here: https://wandb.ai/authorize\n\u001b[34m\u001b[1mwandb\u001b[0m: Paste an API key from your profile and hit enter, or press ctrl+c to quit:",
          "output_type": "stream"
        },
        {
          "output_type": "stream",
          "name": "stdin",
          "text": "  ········································\n"
        },
        {
          "name": "stderr",
          "text": "\u001b[34m\u001b[1mwandb\u001b[0m: Appending key for api.wandb.ai to your netrc file: /root/.netrc\n",
          "output_type": "stream"
        },
        {
          "output_type": "display_data",
          "data": {
            "text/plain": "<IPython.core.display.HTML object>",
            "text/html": "wandb version 0.15.12 is available!  To upgrade, please run:\n $ pip install wandb --upgrade"
          },
          "metadata": {}
        },
        {
          "output_type": "display_data",
          "data": {
            "text/plain": "<IPython.core.display.HTML object>",
            "text/html": "Tracking run with wandb version 0.15.9"
          },
          "metadata": {}
        },
        {
          "output_type": "display_data",
          "data": {
            "text/plain": "<IPython.core.display.HTML object>",
            "text/html": "Run data is saved locally in <code>/kaggle/working/wandb/run-20231103_171850-sv44900l</code>"
          },
          "metadata": {}
        },
        {
          "output_type": "display_data",
          "data": {
            "text/plain": "<IPython.core.display.HTML object>",
            "text/html": "Syncing run <strong><a href='https://wandb.ai/pushkar-ambastha/DNA_bert/runs/sv44900l' target=\"_blank\">zhihan1996/DNA_bert_3</a></strong> to <a href='https://wandb.ai/pushkar-ambastha/DNA_bert' target=\"_blank\">Weights & Biases</a> (<a href='https://wandb.me/run' target=\"_blank\">docs</a>)<br/>"
          },
          "metadata": {}
        },
        {
          "output_type": "display_data",
          "data": {
            "text/plain": "<IPython.core.display.HTML object>",
            "text/html": " View project at <a href='https://wandb.ai/pushkar-ambastha/DNA_bert' target=\"_blank\">https://wandb.ai/pushkar-ambastha/DNA_bert</a>"
          },
          "metadata": {}
        },
        {
          "output_type": "display_data",
          "data": {
            "text/plain": "<IPython.core.display.HTML object>",
            "text/html": " View run at <a href='https://wandb.ai/pushkar-ambastha/DNA_bert/runs/sv44900l' target=\"_blank\">https://wandb.ai/pushkar-ambastha/DNA_bert/runs/sv44900l</a>"
          },
          "metadata": {}
        }
      ]
    },
    {
      "cell_type": "code",
      "source": [
        "training_args = TrainingArguments(\n",
        "    output_dir=results_dir / \"checkpoints\",  # output directory\n",
        "    num_train_epochs=EPOCHS,\n",
        "    per_device_train_batch_size=BATCH_SIZE,\n",
        "    per_device_eval_batch_size=BATCH_SIZE,\n",
        "    warmup_steps=500,  # number of warmup steps for learning rate scheduler\n",
        "    weight_decay=0.01,  # L2 regularization lambda value\n",
        "    logging_steps=60,  # log metrics every 60 steps\n",
        "    load_best_model_at_end=True,\n",
        "    evaluation_strategy=\"epoch\",\n",
        "    save_strategy=\"epoch\",\n",
        ")\n",
        "\n",
        "trainer = Trainer(\n",
        "    model=model,\n",
        "    args=training_args,\n",
        "    train_dataset=train_dataset,\n",
        "    eval_dataset=val_dataset,\n",
        "    compute_metrics=compute_metrics,  # compute metrics function is used for evaluation at the end of each epoch\n",
        "    tokenizer=tokenizer,\n",
        ")\n",
        "\n",
        "trainer.train()"
      ],
      "metadata": {
        "_uuid": "8f2839f25d086af736a60e9eeb907d3b93b6e0e5",
        "_cell_guid": "b1076dfc-b9ad-4769-8c92-a6c4dae69d19",
        "execution": {
          "iopub.status.busy": "2023-11-03T17:19:21.986798Z",
          "iopub.execute_input": "2023-11-03T17:19:21.987680Z",
          "iopub.status.idle": "2023-11-03T17:21:05.053815Z",
          "shell.execute_reply.started": "2023-11-03T17:19:21.987639Z",
          "shell.execute_reply": "2023-11-03T17:21:05.052693Z"
        },
        "trusted": true,
        "id": "Pz4d3DPinyKQ",
        "outputId": "ebe1feb6-ef66-4e3e-f059-2871710b313a"
      },
      "execution_count": null,
      "outputs": [
        {
          "name": "stderr",
          "text": "/tmp/ipykernel_32/3704363462.py:17: UserWarning: To copy construct from a tensor, it is recommended to use sourceTensor.clone().detach() or sourceTensor.clone().detach().requires_grad_(True), rather than torch.tensor(sourceTensor).\n  \"input_ids\": torch.tensor(self.input_ids[index]),\n/tmp/ipykernel_32/3704363462.py:18: UserWarning: To copy construct from a tensor, it is recommended to use sourceTensor.clone().detach() or sourceTensor.clone().detach().requires_grad_(True), rather than torch.tensor(sourceTensor).\n  \"attention_mask\": torch.tensor(self.attention_masks[index]),\nYou're using a BertTokenizerFast tokenizer. Please note that with a fast tokenizer, using the `__call__` method is faster than using a method to encode the text followed by a call to the `pad` method to get a padded encoding.\n",
          "output_type": "stream"
        },
        {
          "output_type": "display_data",
          "data": {
            "text/plain": "<IPython.core.display.HTML object>",
            "text/html": "\n    <div>\n      \n      <progress value='188' max='188' style='width:300px; height:20px; vertical-align: middle;'></progress>\n      [188/188 01:40, Epoch 1/1]\n    </div>\n    <table border=\"1\" class=\"dataframe\">\n  <thead>\n <tr style=\"text-align: left;\">\n      <th>Epoch</th>\n      <th>Training Loss</th>\n      <th>Validation Loss</th>\n      <th>Accuracy</th>\n      <th>Precision</th>\n      <th>Recall</th>\n      <th>F1</th>\n    </tr>\n  </thead>\n  <tbody>\n    <tr>\n      <td>1</td>\n      <td>0.371800</td>\n      <td>0.351774</td>\n      <td>0.870642</td>\n      <td>0.918431</td>\n      <td>0.870642</td>\n      <td>0.853881</td>\n    </tr>\n  </tbody>\n</table><p>"
          },
          "metadata": {}
        },
        {
          "execution_count": 10,
          "output_type": "execute_result",
          "data": {
            "text/plain": "TrainOutput(global_step=188, training_loss=1.064903625465454, metrics={'train_runtime': 102.7311, 'train_samples_per_second': 14.601, 'train_steps_per_second': 1.83, 'total_flos': 394680757248000.0, 'train_loss': 1.064903625465454, 'epoch': 1.0})"
          },
          "metadata": {}
        }
      ]
    },
    {
      "cell_type": "code",
      "source": [
        "import gc"
      ],
      "metadata": {
        "execution": {
          "iopub.status.busy": "2023-11-03T17:51:25.510612Z",
          "iopub.execute_input": "2023-11-03T17:51:25.511431Z",
          "iopub.status.idle": "2023-11-03T17:51:25.515541Z",
          "shell.execute_reply.started": "2023-11-03T17:51:25.511395Z",
          "shell.execute_reply": "2023-11-03T17:51:25.514427Z"
        },
        "trusted": true,
        "id": "utiam76znyKR"
      },
      "execution_count": null,
      "outputs": []
    },
    {
      "cell_type": "code",
      "source": [
        "torch.cuda.empty_cache()\n",
        "obj=None\n",
        "gc.collect()"
      ],
      "metadata": {
        "execution": {
          "iopub.status.busy": "2023-11-03T17:51:26.687258Z",
          "iopub.execute_input": "2023-11-03T17:51:26.687672Z",
          "iopub.status.idle": "2023-11-03T17:51:30.689067Z",
          "shell.execute_reply.started": "2023-11-03T17:51:26.687629Z",
          "shell.execute_reply": "2023-11-03T17:51:30.687956Z"
        },
        "trusted": true,
        "id": "Z46YnppRnyKR",
        "outputId": "80c627ec-bdba-4523-a8e8-fed4a6cc107e"
      },
      "execution_count": null,
      "outputs": [
        {
          "execution_count": 17,
          "output_type": "execute_result",
          "data": {
            "text/plain": "16649"
          },
          "metadata": {}
        }
      ]
    },
    {
      "cell_type": "code",
      "source": [
        "from pynvml.smi import nvidia_smi\n",
        "nvsmi = nvidia_smi.getInstance()\n",
        "nvsmi.DeviceQuery('memory.free, memory.total')"
      ],
      "metadata": {
        "execution": {
          "iopub.status.busy": "2023-11-03T17:21:05.577004Z",
          "iopub.execute_input": "2023-11-03T17:21:05.577456Z",
          "iopub.status.idle": "2023-11-03T17:21:05.597550Z",
          "shell.execute_reply.started": "2023-11-03T17:21:05.577411Z",
          "shell.execute_reply": "2023-11-03T17:21:05.596416Z"
        },
        "trusted": true,
        "id": "KGEJ01ibnyKR",
        "outputId": "81be5645-592e-4ece-d60b-48009eac491a"
      },
      "execution_count": null,
      "outputs": [
        {
          "execution_count": 13,
          "output_type": "execute_result",
          "data": {
            "text/plain": "{'gpu': [{'fb_memory_usage': {'total': 16280.875,\n    'free': 14231.75,\n    'unit': 'MiB'}}]}"
          },
          "metadata": {}
        }
      ]
    },
    {
      "cell_type": "code",
      "source": [
        "# save the model and tokenizer\n",
        "model_path = results_dir / \"model\"\n",
        "model.save_pretrained(model_path)\n",
        "tokenizer.save_pretrained(model_path)\n",
        "\n",
        "# evaluate on all the test datasets\n",
        "eval_results = []\n",
        "for val_dataset in val_dataset_generator(\n",
        "    tokenizer, kmer_size=KMER, val_dir=\"/kaggle/input/covid-deeppredictor/TestData/TestData\"\n",
        "):\n",
        "    res = trainer.evaluate(val_dataset)\n",
        "    eval_results.append(res)\n",
        "    torch.cuda.empty_cache()\n",
        "    obj=None\n",
        "    gc.collect()\n",
        "    break"
      ],
      "metadata": {
        "_uuid": "8f2839f25d086af736a60e9eeb907d3b93b6e0e5",
        "_cell_guid": "b1076dfc-b9ad-4769-8c92-a6c4dae69d19",
        "execution": {
          "iopub.status.busy": "2023-11-03T17:21:05.599249Z",
          "iopub.execute_input": "2023-11-03T17:21:05.600011Z",
          "iopub.status.idle": "2023-11-03T17:23:47.617173Z",
          "shell.execute_reply.started": "2023-11-03T17:21:05.599975Z",
          "shell.execute_reply": "2023-11-03T17:23:47.616040Z"
        },
        "trusted": true,
        "id": "VRghPkmInyKR",
        "outputId": "707cdbd6-38cc-46df-b0a1-c1a9a37729fe"
      },
      "execution_count": null,
      "outputs": [
        {
          "name": "stdout",
          "text": "Testdata-1.csv 3143\n",
          "output_type": "stream"
        },
        {
          "name": "stderr",
          "text": "/tmp/ipykernel_32/3704363462.py:17: UserWarning: To copy construct from a tensor, it is recommended to use sourceTensor.clone().detach() or sourceTensor.clone().detach().requires_grad_(True), rather than torch.tensor(sourceTensor).\n  \"input_ids\": torch.tensor(self.input_ids[index]),\n/tmp/ipykernel_32/3704363462.py:18: UserWarning: To copy construct from a tensor, it is recommended to use sourceTensor.clone().detach() or sourceTensor.clone().detach().requires_grad_(True), rather than torch.tensor(sourceTensor).\n  \"attention_mask\": torch.tensor(self.attention_masks[index]),\n",
          "output_type": "stream"
        },
        {
          "output_type": "display_data",
          "data": {
            "text/plain": "<IPython.core.display.HTML object>",
            "text/html": "\n    <div>\n      \n      <progress value='393' max='393' style='width:300px; height:20px; vertical-align: middle;'></progress>\n      [393/393 00:54]\n    </div>\n    "
          },
          "metadata": {}
        }
      ]
    },
    {
      "cell_type": "markdown",
      "source": [
        "### Metrics"
      ],
      "metadata": {
        "id": "HV7bUEWgnyKR"
      }
    },
    {
      "cell_type": "code",
      "source": [
        "# average over the eval_accuracy and eval_f1 from the dic items in eval_results\n",
        "avg_acc = np.mean([res[\"eval_accuracy\"] for res in eval_results])\n",
        "avg_f1 = np.mean([res[\"eval_f1\"] for res in eval_results])\n",
        "\n",
        "print(f\"Average accuracy: {avg_acc}\")\n",
        "print(f\"Average F1: {avg_f1}\")\n",
        "\n",
        "wandb.log({\"avg_acc\": avg_acc, \"avg_f1\": avg_f1})\n",
        "wandb.finish()"
      ],
      "metadata": {
        "_uuid": "8f2839f25d086af736a60e9eeb907d3b93b6e0e5",
        "_cell_guid": "b1076dfc-b9ad-4769-8c92-a6c4dae69d19",
        "execution": {
          "iopub.status.busy": "2023-11-03T17:23:47.618938Z",
          "iopub.execute_input": "2023-11-03T17:23:47.619393Z",
          "iopub.status.idle": "2023-11-03T17:23:52.964336Z",
          "shell.execute_reply.started": "2023-11-03T17:23:47.619350Z",
          "shell.execute_reply": "2023-11-03T17:23:52.963242Z"
        },
        "trusted": true,
        "id": "dWHGxNmknyKR",
        "outputId": "82652ef5-82ff-495b-ce24-fed6ea7694d2"
      },
      "execution_count": null,
      "outputs": [
        {
          "name": "stdout",
          "text": "Average accuracy: 0.9914094813872096\nAverage F1: 0.991562172469572\n",
          "output_type": "stream"
        },
        {
          "output_type": "display_data",
          "data": {
            "text/plain": "<IPython.core.display.HTML object>",
            "text/html": "Waiting for W&B process to finish... <strong style=\"color:green\">(success).</strong>"
          },
          "metadata": {}
        },
        {
          "output_type": "display_data",
          "data": {
            "text/plain": "<IPython.core.display.HTML object>",
            "text/html": "<style>\n    table.wandb td:nth-child(1) { padding: 0 10px; text-align: left ; width: auto;} td:nth-child(2) {text-align: left ; width: 100%}\n    .wandb-row { display: flex; flex-direction: row; flex-wrap: wrap; justify-content: flex-start; width: 100% }\n    .wandb-col { display: flex; flex-direction: column; flex-basis: 100%; flex: 1; padding: 10px; }\n    </style>\n<div class=\"wandb-row\"><div class=\"wandb-col\"><h3>Run history:</h3><br/><table class=\"wandb\"><tr><td>avg_acc</td><td>▁</td></tr><tr><td>avg_f1</td><td>▁</td></tr><tr><td>eval/accuracy</td><td>▁█</td></tr><tr><td>eval/f1</td><td>▁█</td></tr><tr><td>eval/loss</td><td>█▁</td></tr><tr><td>eval/precision</td><td>▁█</td></tr><tr><td>eval/recall</td><td>▁█</td></tr><tr><td>eval/runtime</td><td>▁█</td></tr><tr><td>eval/samples_per_second</td><td>█▁</td></tr><tr><td>eval/steps_per_second</td><td>█▁</td></tr><tr><td>train/epoch</td><td>▁▄████</td></tr><tr><td>train/global_step</td><td>▁▄█████</td></tr><tr><td>train/learning_rate</td><td>▁▅█</td></tr><tr><td>train/loss</td><td>█▅▁</td></tr><tr><td>train/total_flos</td><td>▁</td></tr><tr><td>train/train_loss</td><td>▁</td></tr><tr><td>train/train_runtime</td><td>▁</td></tr><tr><td>train/train_samples_per_second</td><td>▁</td></tr><tr><td>train/train_steps_per_second</td><td>▁</td></tr></table><br/></div><div class=\"wandb-col\"><h3>Run summary:</h3><br/><table class=\"wandb\"><tr><td>avg_acc</td><td>0.99141</td></tr><tr><td>avg_f1</td><td>0.99156</td></tr><tr><td>eval/accuracy</td><td>0.99141</td></tr><tr><td>eval/f1</td><td>0.99156</td></tr><tr><td>eval/loss</td><td>0.11046</td></tr><tr><td>eval/precision</td><td>0.9919</td></tr><tr><td>eval/recall</td><td>0.99141</td></tr><tr><td>eval/runtime</td><td>54.7487</td></tr><tr><td>eval/samples_per_second</td><td>57.408</td></tr><tr><td>eval/steps_per_second</td><td>7.178</td></tr><tr><td>train/epoch</td><td>1.0</td></tr><tr><td>train/global_step</td><td>188</td></tr><tr><td>train/learning_rate</td><td>2e-05</td></tr><tr><td>train/loss</td><td>0.3718</td></tr><tr><td>train/total_flos</td><td>394680757248000.0</td></tr><tr><td>train/train_loss</td><td>1.0649</td></tr><tr><td>train/train_runtime</td><td>102.7311</td></tr><tr><td>train/train_samples_per_second</td><td>14.601</td></tr><tr><td>train/train_steps_per_second</td><td>1.83</td></tr></table><br/></div></div>"
          },
          "metadata": {}
        },
        {
          "output_type": "display_data",
          "data": {
            "text/plain": "<IPython.core.display.HTML object>",
            "text/html": " View run <strong style=\"color:#cdcd00\">zhihan1996/DNA_bert_3</strong> at: <a href='https://wandb.ai/pushkar-ambastha/DNA_bert/runs/sv44900l' target=\"_blank\">https://wandb.ai/pushkar-ambastha/DNA_bert/runs/sv44900l</a><br/>Synced 6 W&B file(s), 0 media file(s), 0 artifact file(s) and 0 other file(s)"
          },
          "metadata": {}
        },
        {
          "output_type": "display_data",
          "data": {
            "text/plain": "<IPython.core.display.HTML object>",
            "text/html": "Find logs at: <code>./wandb/run-20231103_171850-sv44900l/logs</code>"
          },
          "metadata": {}
        }
      ]
    },
    {
      "cell_type": "markdown",
      "source": [
        "# classical ML models"
      ],
      "metadata": {
        "id": "HfJnts7rnyKS"
      }
    },
    {
      "cell_type": "code",
      "source": [
        "df_training.shape"
      ],
      "metadata": {
        "execution": {
          "iopub.status.busy": "2023-11-03T18:18:38.461110Z",
          "iopub.execute_input": "2023-11-03T18:18:38.461533Z",
          "iopub.status.idle": "2023-11-03T18:18:38.467896Z",
          "shell.execute_reply.started": "2023-11-03T18:18:38.461500Z",
          "shell.execute_reply": "2023-11-03T18:18:38.466934Z"
        },
        "trusted": true,
        "id": "FK-Dl1aYnyKS",
        "outputId": "9395ef6c-107f-4e1d-c544-a36d8aa8a181"
      },
      "execution_count": null,
      "outputs": [
        {
          "execution_count": 88,
          "output_type": "execute_result",
          "data": {
            "text/plain": "(1500, 5)"
          },
          "metadata": {}
        }
      ]
    },
    {
      "cell_type": "code",
      "source": [
        "df_val.shape"
      ],
      "metadata": {
        "execution": {
          "iopub.status.busy": "2023-11-03T18:26:00.471446Z",
          "iopub.execute_input": "2023-11-03T18:26:00.471851Z",
          "iopub.status.idle": "2023-11-03T18:26:00.479014Z",
          "shell.execute_reply.started": "2023-11-03T18:26:00.471818Z",
          "shell.execute_reply": "2023-11-03T18:26:00.477854Z"
        },
        "trusted": true,
        "id": "zfUgWMN3nyKS",
        "outputId": "a12df507-bfae-4cc7-bb6d-15dd291dcd7c"
      },
      "execution_count": null,
      "outputs": [
        {
          "execution_count": 101,
          "output_type": "execute_result",
          "data": {
            "text/plain": "(1090, 4)"
          },
          "metadata": {}
        }
      ]
    },
    {
      "cell_type": "code",
      "source": [
        "df_val_2= pd.read_csv('/kaggle/input/covid-deeppredictor/TestData/TestData/Testdata-4.csv')"
      ],
      "metadata": {
        "execution": {
          "iopub.status.busy": "2023-11-03T18:26:10.060790Z",
          "iopub.execute_input": "2023-11-03T18:26:10.061727Z",
          "iopub.status.idle": "2023-11-03T18:26:10.889523Z",
          "shell.execute_reply.started": "2023-11-03T18:26:10.061690Z",
          "shell.execute_reply": "2023-11-03T18:26:10.888398Z"
        },
        "trusted": true,
        "id": "j2b0m2k0nyKS"
      },
      "execution_count": null,
      "outputs": []
    },
    {
      "cell_type": "code",
      "source": [
        "df_val_2.shape"
      ],
      "metadata": {
        "execution": {
          "iopub.status.busy": "2023-11-03T18:26:10.891230Z",
          "iopub.execute_input": "2023-11-03T18:26:10.891524Z",
          "iopub.status.idle": "2023-11-03T18:26:10.898587Z",
          "shell.execute_reply.started": "2023-11-03T18:26:10.891499Z",
          "shell.execute_reply": "2023-11-03T18:26:10.897521Z"
        },
        "trusted": true,
        "id": "vgwzK-M0nyKS",
        "outputId": "14c89434-67b8-49bc-ff11-333c6198ce87"
      },
      "execution_count": null,
      "outputs": [
        {
          "execution_count": 105,
          "output_type": "execute_result",
          "data": {
            "text/plain": "(3500, 3)"
          },
          "metadata": {}
        }
      ]
    },
    {
      "cell_type": "code",
      "source": [
        "sns.set()\n",
        "df_training['CLASS'].value_counts().sort_index().plot.bar()\n",
        "plt.title(\"Class distribution of DNA\")"
      ],
      "metadata": {
        "execution": {
          "iopub.status.busy": "2023-11-03T17:48:02.361953Z",
          "iopub.execute_input": "2023-11-03T17:48:02.362357Z",
          "iopub.status.idle": "2023-11-03T17:48:02.734622Z",
          "shell.execute_reply.started": "2023-11-03T17:48:02.362327Z",
          "shell.execute_reply": "2023-11-03T17:48:02.733628Z"
        },
        "trusted": true,
        "id": "mz5bHC15nyKS",
        "outputId": "f6012bea-ca9e-4c07-f2bf-0212048f6581"
      },
      "execution_count": null,
      "outputs": [
        {
          "execution_count": 7,
          "output_type": "execute_result",
          "data": {
            "text/plain": "Text(0.5, 1.0, 'Class distribution of DNA')"
          },
          "metadata": {}
        },
        {
          "output_type": "display_data",
          "data": {
            "text/plain": "<Figure size 640x480 with 1 Axes>",
            "image/png": "[encoded data removed]"
          },
          "metadata": {}
        }
      ]
    },
    {
      "cell_type": "code",
      "source": [
        "sns.set()\n",
        "df_val_2['Class'].value_counts().sort_index().plot.bar()\n",
        "plt.title(\"Class distribution of DNA\")"
      ],
      "metadata": {
        "execution": {
          "iopub.status.busy": "2023-11-03T18:26:35.221573Z",
          "iopub.execute_input": "2023-11-03T18:26:35.222141Z",
          "iopub.status.idle": "2023-11-03T18:26:35.571147Z",
          "shell.execute_reply.started": "2023-11-03T18:26:35.222103Z",
          "shell.execute_reply": "2023-11-03T18:26:35.570034Z"
        },
        "trusted": true,
        "id": "-scOtoVxnyKS",
        "outputId": "6548267b-1be1-4015-f86c-af42cb39c95d"
      },
      "execution_count": null,
      "outputs": [
        {
          "execution_count": 107,
          "output_type": "execute_result",
          "data": {
            "text/plain": "Text(0.5, 1.0, 'Class distribution of DNA')"
          },
          "metadata": {}
        },
        {
          "output_type": "display_data",
          "data": {
            "text/plain": "<Figure size 640x480 with 1 Axes>",
            "image/png": "[encoded data removed]"
          },
          "metadata": {}
        }
      ]
    },
    {
      "cell_type": "code",
      "source": [
        "def Kmers_funct(seq, size=6):\n",
        "    return [seq[x:x+size].lower() for x in range(len(seq) - size + 1)]\n",
        "\n",
        "#convert our training data sequences into short overlapping k-mers of length 6.\n",
        "#Lets do that for each species of data we have using our Kmers_funct function.\n",
        "\n",
        "virus_dna = df_training\n",
        "virus_dna_val = df_val_2\n",
        "virus_dna['words'] = virus_dna.apply(lambda x: Kmers_funct(x['SEQ']), axis=1)\n",
        "virus_dna_val['words'] = virus_dna_val.apply(lambda x: Kmers_funct(x['SEQ']), axis=1)\n",
        "virus_dna = virus_dna.drop('SEQ', axis=1)\n",
        "virus_dna_val = virus_dna_val.drop('SEQ', axis=1)"
      ],
      "metadata": {
        "execution": {
          "iopub.status.busy": "2023-11-03T18:29:07.948809Z",
          "iopub.execute_input": "2023-11-03T18:29:07.949451Z",
          "iopub.status.idle": "2023-11-03T18:29:42.814849Z",
          "shell.execute_reply.started": "2023-11-03T18:29:07.949418Z",
          "shell.execute_reply": "2023-11-03T18:29:42.813846Z"
        },
        "trusted": true,
        "id": "__u-O_t1nyKS"
      },
      "execution_count": null,
      "outputs": []
    },
    {
      "cell_type": "code",
      "source": [
        "virus_texts = list(virus_dna['words'])\n",
        "for item in range(len(virus_texts)):\n",
        "    virus_texts[item] = ' '.join(virus_texts[item])\n",
        "#separate labels\n",
        "y_virus = virus_dna.iloc[:, 1].values # y_virus for virus_dna"
      ],
      "metadata": {
        "execution": {
          "iopub.status.busy": "2023-11-03T18:29:42.817080Z",
          "iopub.execute_input": "2023-11-03T18:29:42.817869Z",
          "iopub.status.idle": "2023-11-03T18:29:43.833136Z",
          "shell.execute_reply.started": "2023-11-03T18:29:42.817827Z",
          "shell.execute_reply": "2023-11-03T18:29:43.832245Z"
        },
        "trusted": true,
        "id": "uFwBIKngnyKT"
      },
      "execution_count": null,
      "outputs": []
    },
    {
      "cell_type": "code",
      "source": [
        "virus_texts_val = list(virus_dna_val['words'])\n",
        "for item in range(len(virus_texts_val)):\n",
        "    virus_texts_val[item] = ' '.join(virus_texts_val[item])\n",
        "#separate labels\n",
        "y_virus_val = virus_dna_val.iloc[:, 1].values # y_virus for virus_dna"
      ],
      "metadata": {
        "execution": {
          "iopub.status.busy": "2023-11-03T18:29:43.834421Z",
          "iopub.execute_input": "2023-11-03T18:29:43.835169Z",
          "iopub.status.idle": "2023-11-03T18:29:47.041343Z",
          "shell.execute_reply.started": "2023-11-03T18:29:43.835133Z",
          "shell.execute_reply": "2023-11-03T18:29:47.040469Z"
        },
        "trusted": true,
        "id": "OCSMd_y2nyKT"
      },
      "execution_count": null,
      "outputs": []
    },
    {
      "cell_type": "code",
      "source": [
        "from sklearn.feature_extraction.text import CountVectorizer\n",
        "cv = CountVectorizer(ngram_range=(4,4)) #The n-gram size of 4 is previously determined by testing\n",
        "X = cv.fit_transform(virus_texts)\n",
        "X_val = cv.fit_transform(virus_texts_val)"
      ],
      "metadata": {
        "execution": {
          "iopub.status.busy": "2023-11-03T18:29:47.044074Z",
          "iopub.execute_input": "2023-11-03T18:29:47.044483Z",
          "iopub.status.idle": "2023-11-03T18:32:54.997415Z",
          "shell.execute_reply.started": "2023-11-03T18:29:47.044444Z",
          "shell.execute_reply": "2023-11-03T18:32:54.996403Z"
        },
        "trusted": true,
        "id": "RZVn5Bq3nyKT"
      },
      "execution_count": null,
      "outputs": []
    },
    {
      "cell_type": "code",
      "source": [
        "X.shape  (1090, 190994)"
      ],
      "metadata": {
        "execution": {
          "iopub.status.busy": "2023-11-03T18:32:54.998590Z",
          "iopub.execute_input": "2023-11-03T18:32:54.998871Z",
          "iopub.status.idle": "2023-11-03T18:32:55.005598Z",
          "shell.execute_reply.started": "2023-11-03T18:32:54.998846Z",
          "shell.execute_reply": "2023-11-03T18:32:55.004578Z"
        },
        "trusted": true,
        "id": "CGpyxRLpnyKT",
        "outputId": "147c4d58-fef6-46cd-909f-9747efd426c9"
      },
      "execution_count": null,
      "outputs": [
        {
          "execution_count": 121,
          "output_type": "execute_result",
          "data": {
            "text/plain": "(1500, 173952)"
          },
          "metadata": {}
        }
      ]
    },
    {
      "cell_type": "code",
      "source": [
        "X_val.shape"
      ],
      "metadata": {
        "execution": {
          "iopub.status.busy": "2023-11-03T18:32:55.007046Z",
          "iopub.execute_input": "2023-11-03T18:32:55.007415Z",
          "iopub.status.idle": "2023-11-03T18:32:55.016630Z",
          "shell.execute_reply.started": "2023-11-03T18:32:55.007380Z",
          "shell.execute_reply": "2023-11-03T18:32:55.015726Z"
        },
        "trusted": true,
        "id": "ZMhbeER9nyKT",
        "outputId": "00ae140a-ed28-40f6-883c-54acc9332100"
      },
      "execution_count": null,
      "outputs": [
        {
          "execution_count": 122,
          "output_type": "execute_result",
          "data": {
            "text/plain": "(3500, 196888)"
          },
          "metadata": {}
        }
      ]
    },
    {
      "cell_type": "code",
      "source": [
        "from sklearn.model_selection import train_test_split\n",
        "# X_train, X_test, y_train, y_test = train_test_split(X,\n",
        "#                                                     y_virus,\n",
        "#                                                     test_size = 0.35,\n",
        "#                                                     random_state=42)\n",
        "X_train=X\n",
        "X_test=X_val\n",
        "y_train=y_virus\n",
        "y_test= y_virus_val"
      ],
      "metadata": {
        "execution": {
          "iopub.status.busy": "2023-11-03T18:33:39.093539Z",
          "iopub.execute_input": "2023-11-03T18:33:39.093961Z",
          "iopub.status.idle": "2023-11-03T18:33:39.101165Z",
          "shell.execute_reply.started": "2023-11-03T18:33:39.093928Z",
          "shell.execute_reply": "2023-11-03T18:33:39.100048Z"
        },
        "trusted": true,
        "id": "D20YYq0_nyKT"
      },
      "execution_count": null,
      "outputs": []
    },
    {
      "cell_type": "code",
      "source": [
        "X_test = X_test[:, :X_train.shape[1]]"
      ],
      "metadata": {
        "execution": {
          "iopub.status.busy": "2023-11-03T18:33:40.239473Z",
          "iopub.execute_input": "2023-11-03T18:33:40.240251Z",
          "iopub.status.idle": "2023-11-03T18:33:41.615100Z",
          "shell.execute_reply.started": "2023-11-03T18:33:40.240218Z",
          "shell.execute_reply": "2023-11-03T18:33:41.614197Z"
        },
        "trusted": true,
        "id": "P0FsIVL8nyKT"
      },
      "execution_count": null,
      "outputs": []
    },
    {
      "cell_type": "code",
      "source": [
        "from sklearn.naive_bayes import MultinomialNB\n",
        "classifier = MultinomialNB(alpha=0.1)\n",
        "classifier.fit(X_train, y_train)\n",
        "y_pred = classifier.predict(X_test)"
      ],
      "metadata": {
        "execution": {
          "iopub.status.busy": "2023-11-03T18:33:41.616688Z",
          "iopub.execute_input": "2023-11-03T18:33:41.617028Z",
          "iopub.status.idle": "2023-11-03T18:33:42.787577Z",
          "shell.execute_reply.started": "2023-11-03T18:33:41.617000Z",
          "shell.execute_reply": "2023-11-03T18:33:42.786684Z"
        },
        "trusted": true,
        "id": "K0Zm8k53nyKT"
      },
      "execution_count": null,
      "outputs": []
    },
    {
      "cell_type": "code",
      "source": [
        "import matplotlib.pyplot as plt\n",
        "import seaborn as sns\n",
        "from sklearn.metrics import accuracy_score, f1_score, precision_score, recall_score\n",
        "from sklearn.metrics import confusion_matrix"
      ],
      "metadata": {
        "execution": {
          "iopub.status.busy": "2023-11-03T18:33:43.675068Z",
          "iopub.execute_input": "2023-11-03T18:33:43.675971Z",
          "iopub.status.idle": "2023-11-03T18:33:43.680702Z",
          "shell.execute_reply.started": "2023-11-03T18:33:43.675937Z",
          "shell.execute_reply": "2023-11-03T18:33:43.679635Z"
        },
        "trusted": true,
        "id": "GrAJFR0fnyKT"
      },
      "execution_count": null,
      "outputs": []
    },
    {
      "cell_type": "code",
      "source": [
        "def get_metrics(y_test, y_predicted):\n",
        "    accuracy = accuracy_score(y_test, y_predicted)\n",
        "    precision = precision_score(y_test, y_predicted, average='weighted')\n",
        "    recall = recall_score(y_test, y_predicted, average='weighted')\n",
        "    f1 = f1_score(y_test, y_predicted, average='weighted')\n",
        "    return accuracy, precision, recall, f1"
      ],
      "metadata": {
        "execution": {
          "iopub.status.busy": "2023-11-03T18:33:44.546719Z",
          "iopub.execute_input": "2023-11-03T18:33:44.547484Z",
          "iopub.status.idle": "2023-11-03T18:33:44.553247Z",
          "shell.execute_reply.started": "2023-11-03T18:33:44.547448Z",
          "shell.execute_reply": "2023-11-03T18:33:44.552186Z"
        },
        "trusted": true,
        "id": "RR0TiRx4nyKT"
      },
      "execution_count": null,
      "outputs": []
    },
    {
      "cell_type": "code",
      "source": [
        "print(\"Confusion matrix for predictions on virus test DNA sequence\\n\")\n",
        "# print(pd.crosstab(pd.Series(y_test, name='Actual'), pd.Series(y_pred, name='Predicted')))\n",
        "accuracy, precision, recall, f1 = get_metrics(y_test, y_pred)\n",
        "print(\"accuracy = %.3f \\nprecision = %.3f \\nrecall = %.3f \\nf1 = %.3f\" % (accuracy, precision, recall, f1))\n",
        "plt.figure(figsize=(8, 6))\n",
        "confusion_matrix_data = confusion_matrix(y_test, y_pred)\n",
        "sns.heatmap(confusion_matrix_data, annot=True, fmt=\"d\", cmap=\"Blues\", xticklabels=np.unique(y_test), yticklabels=np.unique(y_test))\n",
        "plt.xlabel(\"Predicted\")\n",
        "plt.ylabel(\"Actual\")\n",
        "plt.title(\"Confusion Matrix\")\n",
        "plt.show()"
      ],
      "metadata": {
        "execution": {
          "iopub.status.busy": "2023-11-03T18:33:45.230907Z",
          "iopub.execute_input": "2023-11-03T18:33:45.231297Z",
          "iopub.status.idle": "2023-11-03T18:33:45.710871Z",
          "shell.execute_reply.started": "2023-11-03T18:33:45.231264Z",
          "shell.execute_reply": "2023-11-03T18:33:45.709828Z"
        },
        "trusted": true,
        "id": "AoKByXGqnyKU",
        "outputId": "106fdf5f-790e-46a2-ff81-8db5f9ecd5a7"
      },
      "execution_count": null,
      "outputs": [
        {
          "name": "stdout",
          "text": "Confusion matrix for predictions on virus test DNA sequence\n\naccuracy = 0.072 \nprecision = 0.017 \nrecall = 0.072 \nf1 = 0.027\n",
          "output_type": "stream"
        },
        {
          "name": "stderr",
          "text": "/opt/conda/lib/python3.10/site-packages/sklearn/metrics/_classification.py:1344: UndefinedMetricWarning: Precision is ill-defined and being set to 0.0 in labels with no predicted samples. Use `zero_division` parameter to control this behavior.\n  _warn_prf(average, modifier, msg_start, len(result))\n",
          "output_type": "stream"
        },
        {
          "output_type": "display_data",
          "data": {
            "text/plain": "<Figure size 800x600 with 2 Axes>",
            "image/png": "[encoded data removed]"
          },
          "metadata": {}
        }
      ]
    },
    {
      "cell_type": "code",
      "source": [
        "# from sklearn.linear_model import LogisticRegression\n",
        "\n",
        "# lr = LogisticRegression()\n",
        "# lr.fit(X_train, y_train)\n",
        "# y_pred = lr.predict(X_test)\n",
        "# print(\"Confusion matrix for predictions on virus test DNA sequence\\n\")\n",
        "# # print(pd.crosstab(pd.Series(y_test, name='Actual'), pd.Series(y_pred, name='Predicted')))\n",
        "# accuracy, precision, recall, f1 = get_metrics(y_test, y_pred)\n",
        "# print(\"accuracy = %.3f \\nprecision = %.3f \\nrecall = %.3f \\nf1 = %.3f\" % (accuracy, precision, recall, f1))\n",
        "# plt.figure(figsize=(8, 6))\n",
        "# confusion_matrix_data = confusion_matrix(y_test, y_pred)\n",
        "# sns.heatmap(confusion_matrix_data, annot=True, fmt=\"d\", cmap=\"Blues\", xticklabels=np.unique(y_test), yticklabels=np.unique(y_test))\n",
        "# plt.xlabel(\"Predicted\")\n",
        "# plt.ylabel(\"Actual\")\n",
        "# plt.title(\"Confusion Matrix\")\n",
        "# plt.show()"
      ],
      "metadata": {
        "execution": {
          "iopub.status.busy": "2023-11-03T18:35:57.224230Z",
          "iopub.execute_input": "2023-11-03T18:35:57.224735Z",
          "iopub.status.idle": "2023-11-03T18:35:57.230105Z",
          "shell.execute_reply.started": "2023-11-03T18:35:57.224687Z",
          "shell.execute_reply": "2023-11-03T18:35:57.228917Z"
        },
        "trusted": true,
        "id": "LaMs1rcKnyKU"
      },
      "execution_count": null,
      "outputs": []
    },
    {
      "cell_type": "code",
      "source": [
        "from sklearn.svm import LinearSVC\n",
        "\n",
        "svm = LinearSVC()\n",
        "svm.fit(X_train, y_train)\n",
        "y_pred = svm.predict(X_test)\n",
        "print(\"Confusion matrix for predictions on virus test DNA sequence\\n\")\n",
        "# print(pd.crosstab(pd.Series(y_test, name='Actual'), pd.Series(y_pred, name='Predicted')))\n",
        "accuracy, precision, recall, f1 = get_metrics(y_test, y_pred)\n",
        "print(\"accuracy = %.3f \\nprecision = %.3f \\nrecall = %.3f \\nf1 = %.3f\" % (accuracy, precision, recall, f1))\n",
        "plt.figure(figsize=(8, 6))\n",
        "confusion_matrix_data = confusion_matrix(y_test, y_pred)\n",
        "sns.heatmap(confusion_matrix_data, annot=True, fmt=\"d\", cmap=\"Blues\", xticklabels=np.unique(y_test), yticklabels=np.unique(y_test))\n",
        "plt.xlabel(\"Predicted\")\n",
        "plt.ylabel(\"Actual\")\n",
        "plt.title(\"Confusion Matrix\")\n",
        "plt.show()"
      ],
      "metadata": {
        "execution": {
          "iopub.status.busy": "2023-11-03T18:33:59.514579Z",
          "iopub.execute_input": "2023-11-03T18:33:59.515265Z",
          "iopub.status.idle": "2023-11-03T18:34:31.593214Z",
          "shell.execute_reply.started": "2023-11-03T18:33:59.515230Z",
          "shell.execute_reply": "2023-11-03T18:34:31.592190Z"
        },
        "trusted": true,
        "id": "jOMZ0uh-nyKX",
        "outputId": "173e5941-6e7e-4788-fd2c-522f291f6b9a"
      },
      "execution_count": null,
      "outputs": [
        {
          "name": "stderr",
          "text": "/opt/conda/lib/python3.10/site-packages/sklearn/svm/_base.py:1244: ConvergenceWarning: Liblinear failed to converge, increase the number of iterations.\n  warnings.warn(\n",
          "output_type": "stream"
        },
        {
          "name": "stdout",
          "text": "Confusion matrix for predictions on virus test DNA sequence\n\naccuracy = 0.042 \nprecision = 0.004 \nrecall = 0.042 \nf1 = 0.006\n",
          "output_type": "stream"
        },
        {
          "name": "stderr",
          "text": "/opt/conda/lib/python3.10/site-packages/sklearn/metrics/_classification.py:1344: UndefinedMetricWarning: Precision is ill-defined and being set to 0.0 in labels with no predicted samples. Use `zero_division` parameter to control this behavior.\n  _warn_prf(average, modifier, msg_start, len(result))\n",
          "output_type": "stream"
        },
        {
          "output_type": "display_data",
          "data": {
            "text/plain": "<Figure size 800x600 with 2 Axes>",
            "image/png": "[encoded data removed]"
          },
          "metadata": {}
        }
      ]
    },
    {
      "cell_type": "code",
      "source": [
        "from sklearn.naive_bayes import MultinomialNB\n",
        "\n",
        "nb = MultinomialNB()\n",
        "nb.fit(X_train, y_train)\n",
        "y_pred = nb.predict(X_test)\n",
        "print(\"Confusion matrix for predictions on virus test DNA sequence\\n\")\n",
        "# print(pd.crosstab(pd.Series(y_test, name='Actual'), pd.Series(y_pred, name='Predicted')))\n",
        "accuracy, precision, recall, f1 = get_metrics(y_test, y_pred)\n",
        "print(\"accuracy = %.3f \\nprecision = %.3f \\nrecall = %.3f \\nf1 = %.3f\" % (accuracy, precision, recall, f1))\n",
        "plt.figure(figsize=(8, 6))\n",
        "confusion_matrix_data = confusion_matrix(y_test, y_pred)\n",
        "sns.heatmap(confusion_matrix_data, annot=True, fmt=\"d\", cmap=\"Blues\", xticklabels=np.unique(y_test), yticklabels=np.unique(y_test))\n",
        "plt.xlabel(\"Predicted\")\n",
        "plt.ylabel(\"Actual\")\n",
        "plt.title(\"Confusion Matrix\")\n",
        "plt.show()"
      ],
      "metadata": {
        "execution": {
          "iopub.status.busy": "2023-11-03T18:34:31.595325Z",
          "iopub.execute_input": "2023-11-03T18:34:31.595975Z",
          "iopub.status.idle": "2023-11-03T18:34:33.177983Z",
          "shell.execute_reply.started": "2023-11-03T18:34:31.595938Z",
          "shell.execute_reply": "2023-11-03T18:34:33.177021Z"
        },
        "trusted": true,
        "id": "U0aDOX0CnyKX",
        "outputId": "815b764e-0db6-4c4c-d413-5f8df2f8c3ba"
      },
      "execution_count": null,
      "outputs": [
        {
          "name": "stdout",
          "text": "Confusion matrix for predictions on virus test DNA sequence\n\naccuracy = 0.071 \nprecision = 0.005 \nrecall = 0.071 \nf1 = 0.010\n",
          "output_type": "stream"
        },
        {
          "name": "stderr",
          "text": "/opt/conda/lib/python3.10/site-packages/sklearn/metrics/_classification.py:1344: UndefinedMetricWarning: Precision is ill-defined and being set to 0.0 in labels with no predicted samples. Use `zero_division` parameter to control this behavior.\n  _warn_prf(average, modifier, msg_start, len(result))\n",
          "output_type": "stream"
        },
        {
          "output_type": "display_data",
          "data": {
            "text/plain": "<Figure size 800x600 with 2 Axes>",
            "image/png": "[encoded data removed]"
          },
          "metadata": {}
        }
      ]
    },
    {
      "cell_type": "code",
      "source": [
        "from sklearn.ensemble import RandomForestClassifier\n",
        "\n",
        "rf = RandomForestClassifier()\n",
        "rf.fit(X_train, y_train)\n",
        "y_pred = rf.predict(X_test)\n",
        "print(\"Confusion matrix for predictions on virus test DNA sequence\\n\")\n",
        "# print(pd.crosstab(pd.Series(y_test, name='Actual'), pd.Series(y_pred, name='Predicted')))\n",
        "accuracy, precision, recall, f1 = get_metrics(y_test, y_pred)\n",
        "print(\"accuracy = %.3f \\nprecision = %.3f \\nrecall = %.3f \\nf1 = %.3f\" % (accuracy, precision, recall, f1))\n",
        "plt.figure(figsize=(8, 6))\n",
        "confusion_matrix_data = confusion_matrix(y_test, y_pred)\n",
        "sns.heatmap(confusion_matrix_data, annot=True, fmt=\"d\", cmap=\"Blues\", xticklabels=np.unique(y_test), yticklabels=np.unique(y_test))\n",
        "plt.xlabel(\"Predicted\")\n",
        "plt.ylabel(\"Actual\")\n",
        "plt.title(\"Confusion Matrix\")\n",
        "plt.show()"
      ],
      "metadata": {
        "execution": {
          "iopub.status.busy": "2023-11-03T18:34:33.179495Z",
          "iopub.execute_input": "2023-11-03T18:34:33.179925Z",
          "iopub.status.idle": "2023-11-03T18:35:06.028356Z",
          "shell.execute_reply.started": "2023-11-03T18:34:33.179866Z",
          "shell.execute_reply": "2023-11-03T18:35:06.027332Z"
        },
        "trusted": true,
        "id": "CpsxctjnnyKX",
        "outputId": "1bd48029-f17b-48ea-ea1d-778a80aeebd3"
      },
      "execution_count": null,
      "outputs": [
        {
          "name": "stdout",
          "text": "Confusion matrix for predictions on virus test DNA sequence\n\naccuracy = 0.071 \nprecision = 0.005 \nrecall = 0.071 \nf1 = 0.010\n",
          "output_type": "stream"
        },
        {
          "name": "stderr",
          "text": "/opt/conda/lib/python3.10/site-packages/sklearn/metrics/_classification.py:1344: UndefinedMetricWarning: Precision is ill-defined and being set to 0.0 in labels with no predicted samples. Use `zero_division` parameter to control this behavior.\n  _warn_prf(average, modifier, msg_start, len(result))\n",
          "output_type": "stream"
        },
        {
          "output_type": "display_data",
          "data": {
            "text/plain": "<Figure size 800x600 with 2 Axes>",
            "image/png": "[encoded data removed]"
          },
          "metadata": {}
        }
      ]
    },
    {
      "cell_type": "code",
      "source": [
        "from sklearn.neighbors import KNeighborsClassifier\n",
        "\n",
        "knn = KNeighborsClassifier()\n",
        "knn.fit(X_train, y_train)\n",
        "y_pred = knn.predict(X_test)\n",
        "print(\"Confusion matrix for predictions on virus test DNA sequence\\n\")\n",
        "# print(pd.crosstab(pd.Series(y_test, name='Actual'), pd.Series(y_pred, name='Predicted')))\n",
        "accuracy, precision, recall, f1 = get_metrics(y_test, y_pred)\n",
        "print(\"accuracy = %.3f \\nprecision = %.3f \\nrecall = %.3f \\nf1 = %.3f\" % (accuracy, precision, recall, f1))\n",
        "plt.figure(figsize=(8, 6))\n",
        "confusion_matrix_data = confusion_matrix(y_test, y_pred)\n",
        "sns.heatmap(confusion_matrix_data, annot=True, fmt=\"d\", cmap=\"Blues\", xticklabels=np.unique(y_test), yticklabels=np.unique(y_test))\n",
        "plt.xlabel(\"Predicted\")\n",
        "plt.ylabel(\"Actual\")\n",
        "plt.title(\"Confusion Matrix\")\n",
        "plt.show()"
      ],
      "metadata": {
        "execution": {
          "iopub.status.busy": "2023-11-03T18:35:06.030447Z",
          "iopub.execute_input": "2023-11-03T18:35:06.030755Z",
          "iopub.status.idle": "2023-11-03T18:35:57.221929Z",
          "shell.execute_reply.started": "2023-11-03T18:35:06.030727Z",
          "shell.execute_reply": "2023-11-03T18:35:57.220929Z"
        },
        "trusted": true,
        "id": "RJU6-FUHnyKY",
        "outputId": "83b4fdd4-feb6-4282-f4bd-6f5c2fee56e9"
      },
      "execution_count": null,
      "outputs": [
        {
          "name": "stdout",
          "text": "Confusion matrix for predictions on virus test DNA sequence\n\naccuracy = 0.071 \nprecision = 0.005 \nrecall = 0.071 \nf1 = 0.010\n",
          "output_type": "stream"
        },
        {
          "name": "stderr",
          "text": "/opt/conda/lib/python3.10/site-packages/sklearn/metrics/_classification.py:1344: UndefinedMetricWarning: Precision is ill-defined and being set to 0.0 in labels with no predicted samples. Use `zero_division` parameter to control this behavior.\n  _warn_prf(average, modifier, msg_start, len(result))\n",
          "output_type": "stream"
        },
        {
          "output_type": "display_data",
          "data": {
            "text/plain": "<Figure size 800x600 with 2 Axes>",
            "image/png": "[encoded data removed]"
          },
          "metadata": {}
        }
      ]
    },
    {
      "cell_type": "code",
      "source": [],
      "metadata": {
        "id": "4SXoG_K8nyKY"
      },
      "execution_count": null,
      "outputs": []
    }
  ]
}